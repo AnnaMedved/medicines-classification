{
 "cells": [
  {
   "cell_type": "code",
   "execution_count": null,
   "metadata": {},
   "outputs": [],
   "source": [
    "!git clone https://github.com/AnnaMedved/medicines-classification.git --branch final --single-branch"
   ]
  },
  {
   "cell_type": "code",
   "execution_count": 1,
   "metadata": {},
   "outputs": [
    {
     "name": "stderr",
     "output_type": "stream",
     "text": [
      "[nltk_data] Downloading package stopwords to\n",
      "[nltk_data]     C:\\Users\\Анна\\AppData\\Roaming\\nltk_data...\n",
      "[nltk_data]   Package stopwords is already up-to-date!\n",
      "[nltk_data] Downloading package punkt to\n",
      "[nltk_data]     C:\\Users\\Анна\\AppData\\Roaming\\nltk_data...\n",
      "[nltk_data]   Package punkt is already up-to-date!\n",
      "c:\\Python\\lib\\site-packages\\tqdm\\auto.py:22: TqdmWarning: IProgress not found. Please update jupyter and ipywidgets. See https://ipywidgets.readthedocs.io/en/stable/user_install.html\n",
      "  from .autonotebook import tqdm as notebook_tqdm\n",
      "100%|██████████| 10094/10094 [00:03<00:00, 2887.15it/s]\n"
     ]
    }
   ],
   "source": [
    "\n",
    "# ============================== CNANGE ME =====================================\n",
    "data_name = 'data.xlsx'\n",
    "feature_column = ['Правило взаимодействия (обр.)', 'Исходники (обр.)']\n",
    "new_data_name = 'RESULT.csv'\n",
    "# ============================== CNANGE ME =====================================\n",
    "\n",
    "\n",
    "import os \n",
    "from src.preprocessing_data import all_preprocessing\n",
    "from src.all_predict import all_predictions\n",
    "\n",
    "df = all_preprocessing(\n",
    "    os.path.join('data', data_name), \n",
    "    feature_column, os.path.join('data', new_data_name)\n",
    "    ) \n",
    "\n",
    "pred_df = all_predictions(df, new_data_name, feature_column)"
   ]
  }
 ],
 "metadata": {
  "kernelspec": {
   "display_name": "base",
   "language": "python",
   "name": "python3"
  },
  "language_info": {
   "codemirror_mode": {
    "name": "ipython",
    "version": 3
   },
   "file_extension": ".py",
   "mimetype": "text/x-python",
   "name": "python",
   "nbconvert_exporter": "python",
   "pygments_lexer": "ipython3",
   "version": "3.8.9"
  },
  "orig_nbformat": 4
 },
 "nbformat": 4,
 "nbformat_minor": 2
}
