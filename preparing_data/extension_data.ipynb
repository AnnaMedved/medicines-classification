{
 "cells": [
  {
   "attachments": {},
   "cell_type": "markdown",
   "metadata": {},
   "source": [
    "## Расширение малочисленнных классов"
   ]
  },
  {
   "cell_type": "code",
   "execution_count": 3,
   "metadata": {},
   "outputs": [
    {
     "name": "stdout",
     "output_type": "stream",
     "text": [
      "d:\\Documents\\medicines-classification\\preparing_data\n"
     ]
    }
   ],
   "source": [
    "import os \n",
    "\n",
    "print(os.getcwd())"
   ]
  },
  {
   "cell_type": "code",
   "execution_count": 10,
   "metadata": {},
   "outputs": [
    {
     "data": {
      "text/html": [
       "<div>\n",
       "<style scoped>\n",
       "    .dataframe tbody tr th:only-of-type {\n",
       "        vertical-align: middle;\n",
       "    }\n",
       "\n",
       "    .dataframe tbody tr th {\n",
       "        vertical-align: top;\n",
       "    }\n",
       "\n",
       "    .dataframe thead th {\n",
       "        text-align: right;\n",
       "    }\n",
       "</style>\n",
       "<table border=\"1\" class=\"dataframe\">\n",
       "  <thead>\n",
       "    <tr style=\"text-align: right;\">\n",
       "      <th></th>\n",
       "      <th>Unnamed: 0</th>\n",
       "      <th>ИД правила</th>\n",
       "      <th>Класс</th>\n",
       "      <th>Подуровень</th>\n",
       "      <th>Дата акт.</th>\n",
       "      <th>ИД источника</th>\n",
       "      <th>Источник</th>\n",
       "      <th>Левое ДВ</th>\n",
       "      <th>Левая ФГ</th>\n",
       "      <th>Правое ДВ</th>\n",
       "      <th>Правая ФГ</th>\n",
       "      <th>Правило взаимодействия (обр.)</th>\n",
       "      <th>Исходники (обр.)</th>\n",
       "      <th>Дата ИМП</th>\n",
       "      <th>prep_text_0</th>\n",
       "      <th>deleted_sw0</th>\n",
       "      <th>text_tok_0</th>\n",
       "      <th>prep_text_1</th>\n",
       "      <th>deleted_sw1</th>\n",
       "      <th>text_tok_1</th>\n",
       "    </tr>\n",
       "  </thead>\n",
       "  <tbody>\n",
       "    <tr>\n",
       "      <th>0</th>\n",
       "      <td>0</td>\n",
       "      <td>38039</td>\n",
       "      <td>2</td>\n",
       "      <td>6</td>\n",
       "      <td>2014-12-22</td>\n",
       "      <td>88.0</td>\n",
       "      <td>1б. Инструкция на ЛС (grls.rosminzdrav.ru)</td>\n",
       "      <td>4-нитро-N-[(1RS)-1-(4-фторфенил)-2-(1-этилпипе...</td>\n",
       "      <td>0020 Антиаритмические средства</td>\n",
       "      <td>Верапамил*</td>\n",
       "      <td>0030 Блокаторы кальциевых каналов</td>\n",
       "      <td>Из-за риска развития брадикардии и нарушений п...</td>\n",
       "      <td>из-за риска развития брадикардии и нарушений п...</td>\n",
       "      <td>NaN</td>\n",
       "      <td>Из за риска развития брадикардии и нарушений п...</td>\n",
       "      <td>риска развития брадикардии нарушений проводимо...</td>\n",
       "      <td>риска развития брадикардии нарушений проводимо...</td>\n",
       "      <td>из за риска развития брадикардии и нарушений п...</td>\n",
       "      <td>риска развития брадикардии нарушений проводимо...</td>\n",
       "      <td>риска развития брадикардии нарушений проводимо...</td>\n",
       "    </tr>\n",
       "    <tr>\n",
       "      <th>1</th>\n",
       "      <td>1</td>\n",
       "      <td>38041</td>\n",
       "      <td>2</td>\n",
       "      <td>6</td>\n",
       "      <td>2014-12-22</td>\n",
       "      <td>88.0</td>\n",
       "      <td>1б. Инструкция на ЛС (grls.rosminzdrav.ru)</td>\n",
       "      <td>4-нитро-N-[(1RS)-1-(4-фторфенил)-2-(1-этилпипе...</td>\n",
       "      <td>0020 Антиаритмические средства</td>\n",
       "      <td>Дигоксин*</td>\n",
       "      <td>0090 Сердечные гликозиды и негликозидные карди...</td>\n",
       "      <td>Из-за риска развития брадикардии и нарушений п...</td>\n",
       "      <td>из-за риска развития брадикардии и нарушений п...</td>\n",
       "      <td>NaN</td>\n",
       "      <td>Из за риска развития брадикардии и нарушений п...</td>\n",
       "      <td>риска развития брадикардии нарушений проводимо...</td>\n",
       "      <td>риска развития брадикардии нарушений проводимо...</td>\n",
       "      <td>из за риска развития брадикардии и нарушений п...</td>\n",
       "      <td>риска развития брадикардии нарушений проводимо...</td>\n",
       "      <td>риска развития брадикардии нарушений проводимо...</td>\n",
       "    </tr>\n",
       "    <tr>\n",
       "      <th>2</th>\n",
       "      <td>2</td>\n",
       "      <td>38040</td>\n",
       "      <td>2</td>\n",
       "      <td>6</td>\n",
       "      <td>2019-02-04</td>\n",
       "      <td>88.0</td>\n",
       "      <td>1б. Инструкция на ЛС (grls.rosminzdrav.ru)</td>\n",
       "      <td>4-нитро-N-[(1RS)-1-(4-фторфенил)-2-(1-этилпипе...</td>\n",
       "      <td>0020 Антиаритмические средства</td>\n",
       "      <td>Дилтиазем*</td>\n",
       "      <td>0030 Блокаторы кальциевых каналов</td>\n",
       "      <td>Из-за риска развития брадикардии и нарушений п...</td>\n",
       "      <td>из-за риска развития брадикардии и нарушений п...</td>\n",
       "      <td>NaN</td>\n",
       "      <td>Из за риска развития брадикардии и нарушений п...</td>\n",
       "      <td>риска развития брадикардии нарушений проводимо...</td>\n",
       "      <td>риска развития брадикардии нарушений проводимо...</td>\n",
       "      <td>из за риска развития брадикардии и нарушений п...</td>\n",
       "      <td>риска развития брадикардии нарушений проводимо...</td>\n",
       "      <td>риска развития брадикардии нарушений проводимо...</td>\n",
       "    </tr>\n",
       "    <tr>\n",
       "      <th>3</th>\n",
       "      <td>3</td>\n",
       "      <td>68429</td>\n",
       "      <td>2</td>\n",
       "      <td>8</td>\n",
       "      <td>2022-11-30</td>\n",
       "      <td>88.0</td>\n",
       "      <td>1б. Инструкция на ЛС (grls.rosminzdrav.ru)</td>\n",
       "      <td>7-[N-(4-трифторметилбензоил)-гидразинокарбонил...</td>\n",
       "      <td>0030 Противовирусные средства</td>\n",
       "      <td>Аторвастатин*</td>\n",
       "      <td>0040 Статины</td>\n",
       "      <td>Следует с осторожностью назначать одновременно...</td>\n",
       "      <td>НИОХ-14 (капс.), 04.10.2022\\nСледует с осторож...</td>\n",
       "      <td>04.10.2022</td>\n",
       "      <td>Следует с осторожностью назначать одновременно...</td>\n",
       "      <td>следует осторожностью назначать одновременно т...</td>\n",
       "      <td>следует осторожностью назначать одновременно т...</td>\n",
       "      <td>НИОХ капс Следует с осторожностью назначать од...</td>\n",
       "      <td>ниох капс следует осторожностью назначать одно...</td>\n",
       "      <td>ниох капс следует осторожностью назначать одно...</td>\n",
       "    </tr>\n",
       "    <tr>\n",
       "      <th>4</th>\n",
       "      <td>4</td>\n",
       "      <td>68426</td>\n",
       "      <td>2</td>\n",
       "      <td>2</td>\n",
       "      <td>2022-11-30</td>\n",
       "      <td>88.0</td>\n",
       "      <td>1б. Инструкция на ЛС (grls.rosminzdrav.ru)</td>\n",
       "      <td>7-[N-(4-трифторметилбензоил)-гидразинокарбонил...</td>\n",
       "      <td>0030 Противовирусные средства</td>\n",
       "      <td>Бупропион*</td>\n",
       "      <td>0020 Антидепрессанты</td>\n",
       "      <td>Совместное применение тековиримата (активный м...</td>\n",
       "      <td>НИОХ-14 (капс.), 04.10.2022\\nСовместно примене...</td>\n",
       "      <td>04.10.2022</td>\n",
       "      <td>Совместное применение тековиримата активный ме...</td>\n",
       "      <td>совместное применение тековиримата активный ме...</td>\n",
       "      <td>совместное применение тековиримата активный ме...</td>\n",
       "      <td>НИОХ капс Совместно применение Тековиримата с ...</td>\n",
       "      <td>ниох капс совместно применение тековиримата ми...</td>\n",
       "      <td>ниох капс совместно применение тековиримата ми...</td>\n",
       "    </tr>\n",
       "  </tbody>\n",
       "</table>\n",
       "</div>"
      ],
      "text/plain": [
       "   Unnamed: 0  ИД правила  Класс  Подуровень   Дата акт.  ИД источника  \\\n",
       "0           0       38039      2           6  2014-12-22          88.0   \n",
       "1           1       38041      2           6  2014-12-22          88.0   \n",
       "2           2       38040      2           6  2019-02-04          88.0   \n",
       "3           3       68429      2           8  2022-11-30          88.0   \n",
       "4           4       68426      2           2  2022-11-30          88.0   \n",
       "\n",
       "                                     Источник  \\\n",
       "0  1б. Инструкция на ЛС (grls.rosminzdrav.ru)   \n",
       "1  1б. Инструкция на ЛС (grls.rosminzdrav.ru)   \n",
       "2  1б. Инструкция на ЛС (grls.rosminzdrav.ru)   \n",
       "3  1б. Инструкция на ЛС (grls.rosminzdrav.ru)   \n",
       "4  1б. Инструкция на ЛС (grls.rosminzdrav.ru)   \n",
       "\n",
       "                                            Левое ДВ  \\\n",
       "0  4-нитро-N-[(1RS)-1-(4-фторфенил)-2-(1-этилпипе...   \n",
       "1  4-нитро-N-[(1RS)-1-(4-фторфенил)-2-(1-этилпипе...   \n",
       "2  4-нитро-N-[(1RS)-1-(4-фторфенил)-2-(1-этилпипе...   \n",
       "3  7-[N-(4-трифторметилбензоил)-гидразинокарбонил...   \n",
       "4  7-[N-(4-трифторметилбензоил)-гидразинокарбонил...   \n",
       "\n",
       "                         Левая ФГ      Правое ДВ  \\\n",
       "0  0020 Антиаритмические средства     Верапамил*   \n",
       "1  0020 Антиаритмические средства      Дигоксин*   \n",
       "2  0020 Антиаритмические средства     Дилтиазем*   \n",
       "3   0030 Противовирусные средства  Аторвастатин*   \n",
       "4   0030 Противовирусные средства     Бупропион*   \n",
       "\n",
       "                                           Правая ФГ  \\\n",
       "0                  0030 Блокаторы кальциевых каналов   \n",
       "1  0090 Сердечные гликозиды и негликозидные карди...   \n",
       "2                  0030 Блокаторы кальциевых каналов   \n",
       "3                                       0040 Статины   \n",
       "4                               0020 Антидепрессанты   \n",
       "\n",
       "                       Правило взаимодействия (обр.)  \\\n",
       "0  Из-за риска развития брадикардии и нарушений п...   \n",
       "1  Из-за риска развития брадикардии и нарушений п...   \n",
       "2  Из-за риска развития брадикардии и нарушений п...   \n",
       "3  Следует с осторожностью назначать одновременно...   \n",
       "4  Совместное применение тековиримата (активный м...   \n",
       "\n",
       "                                    Исходники (обр.)    Дата ИМП  \\\n",
       "0  из-за риска развития брадикардии и нарушений п...         NaN   \n",
       "1  из-за риска развития брадикардии и нарушений п...         NaN   \n",
       "2  из-за риска развития брадикардии и нарушений п...         NaN   \n",
       "3  НИОХ-14 (капс.), 04.10.2022\\nСледует с осторож...  04.10.2022   \n",
       "4  НИОХ-14 (капс.), 04.10.2022\\nСовместно примене...  04.10.2022   \n",
       "\n",
       "                                         prep_text_0  \\\n",
       "0  Из за риска развития брадикардии и нарушений п...   \n",
       "1  Из за риска развития брадикардии и нарушений п...   \n",
       "2  Из за риска развития брадикардии и нарушений п...   \n",
       "3  Следует с осторожностью назначать одновременно...   \n",
       "4  Совместное применение тековиримата активный ме...   \n",
       "\n",
       "                                         deleted_sw0  \\\n",
       "0  риска развития брадикардии нарушений проводимо...   \n",
       "1  риска развития брадикардии нарушений проводимо...   \n",
       "2  риска развития брадикардии нарушений проводимо...   \n",
       "3  следует осторожностью назначать одновременно т...   \n",
       "4  совместное применение тековиримата активный ме...   \n",
       "\n",
       "                                          text_tok_0  \\\n",
       "0  риска развития брадикардии нарушений проводимо...   \n",
       "1  риска развития брадикардии нарушений проводимо...   \n",
       "2  риска развития брадикардии нарушений проводимо...   \n",
       "3  следует осторожностью назначать одновременно т...   \n",
       "4  совместное применение тековиримата активный ме...   \n",
       "\n",
       "                                         prep_text_1  \\\n",
       "0  из за риска развития брадикардии и нарушений п...   \n",
       "1  из за риска развития брадикардии и нарушений п...   \n",
       "2  из за риска развития брадикардии и нарушений п...   \n",
       "3  НИОХ капс Следует с осторожностью назначать од...   \n",
       "4  НИОХ капс Совместно применение Тековиримата с ...   \n",
       "\n",
       "                                         deleted_sw1  \\\n",
       "0  риска развития брадикардии нарушений проводимо...   \n",
       "1  риска развития брадикардии нарушений проводимо...   \n",
       "2  риска развития брадикардии нарушений проводимо...   \n",
       "3  ниох капс следует осторожностью назначать одно...   \n",
       "4  ниох капс совместно применение тековиримата ми...   \n",
       "\n",
       "                                          text_tok_1  \n",
       "0  риска развития брадикардии нарушений проводимо...  \n",
       "1  риска развития брадикардии нарушений проводимо...  \n",
       "2  риска развития брадикардии нарушений проводимо...  \n",
       "3  ниох капс следует осторожностью назначать одно...  \n",
       "4  ниох капс совместно применение тековиримата ми...  "
      ]
     },
     "execution_count": 10,
     "metadata": {},
     "output_type": "execute_result"
    }
   ],
   "source": [
    "import pandas as pd \n",
    "\n",
    "df = pd.read_csv('data_stemmed.csv')\n",
    "df.head()"
   ]
  },
  {
   "cell_type": "code",
   "execution_count": 8,
   "metadata": {},
   "outputs": [
    {
     "data": {
      "text/plain": [
       "2    2829\n",
       "6    2336\n",
       "8    2128\n",
       "4    1117\n",
       "5    1055\n",
       "7     331\n",
       "3     274\n",
       "1      24\n",
       "Name: Подуровень, dtype: int64"
      ]
     },
     "execution_count": 8,
     "metadata": {},
     "output_type": "execute_result"
    }
   ],
   "source": [
    "df['Подуровень'].value_counts()"
   ]
  },
  {
   "cell_type": "code",
   "execution_count": 11,
   "metadata": {},
   "outputs": [],
   "source": [
    "import numpy as np \n",
    "import random \n",
    "from random import shuffle, randint, choice\n",
    "\n",
    "\n",
    "def mix_two_frames(df1:pd.DataFrame, df2:pd.DataFrame, column): \n",
    "    \"\"\"Concatenate 2 dataframes and mixing them\"\"\"\n",
    "\n",
    "    # rand_combine = lambda r1, r2: r1 if randint(0, 10) < 5 else r2\n",
    "    # return df1.combine(df2, rand_combine)\n",
    "    new = pd.concat([df1, df2], ignore_index=True)\n",
    "    return new[[column, 'Подуровень']].sample(frac=1, random_state=1)\n",
    "\n",
    "def shuffle_row(row: str): \n",
    "    \"\"\"Random shuffle of the row\"\"\"\n",
    "\n",
    "    words = row.split(' ')\n",
    "    # print(row)\n",
    "    random.shuffle(words)\n",
    "    # print(' '.join(words))\n",
    "    # print(np.random.shuffle(words))\n",
    "    # print(' '.join(words))\n",
    "    return ' '.join(words)\n",
    "\n",
    "def extend_df(df: pd.DataFrame, column: str, indexes: np.array, num_extension: list): \n",
    "    \"\"\"Random extension of small class in text data\"\"\"\n",
    "\n",
    "    data = df.loc[indexes] # DataFrame \n",
    "    # new_rows_arr = np.empty(shape=num_extension, dtype=str) # array of new (extended) objects \n",
    "    # classes = np.zeros(num_extension) \n",
    "    new_rows_arr, classes = [], []\n",
    "\n",
    "    for _ in range(num_extension): \n",
    "\n",
    "        rand_ind = choice(data.index) # random value of input class-array index\n",
    "        row = data.loc[rand_ind, column] # initial (non-shuffled) row \n",
    "        cls = data.loc[rand_ind, 'Подуровень'] # initiala class \n",
    "        new_row = shuffle_row(row)\n",
    "        new_rows_arr.append(new_row) \n",
    "        classes.append(cls) \n",
    "\n",
    "    ext_df = pd.DataFrame(\n",
    "        index=np.arange(num_extension), \n",
    "        data={column: new_rows_arr, 'Подуровень': classes} \n",
    "        # columns=[column, '']\n",
    "    )\n",
    "\n",
    "    shuffled_df = mix_two_frames(df1=df, df2=ext_df, column=column)\n",
    "    return shuffled_df\n",
    "\n",
    "df['text_tok_0'] = df['text_tok_0'] + df['text_tok_1']\n",
    "\n",
    "indexes_1 = df[df['Подуровень'] == 1].index\n",
    "df = extend_df(df=df, column='text_tok_0', indexes=indexes_1, num_extension=800)\n",
    "indexes_3 = df[df['Подуровень'] == 3].index\n",
    "df = extend_df(df=df, column='text_tok_0', indexes=indexes_3, num_extension=800)\n",
    "indexes_7 = df[df['Подуровень'] == 7].index\n",
    "df = extend_df(df=df, column='text_tok_0', indexes=indexes_7, num_extension=700)\n",
    "\n",
    "# len(indexes_1)\n",
    "\n",
    "# df.head()"
   ]
  },
  {
   "cell_type": "code",
   "execution_count": 16,
   "metadata": {},
   "outputs": [],
   "source": [
    "df.to_csv('extended.csv')"
   ]
  },
  {
   "cell_type": "code",
   "execution_count": 12,
   "metadata": {},
   "outputs": [
    {
     "data": {
      "text/html": [
       "<div>\n",
       "<style scoped>\n",
       "    .dataframe tbody tr th:only-of-type {\n",
       "        vertical-align: middle;\n",
       "    }\n",
       "\n",
       "    .dataframe tbody tr th {\n",
       "        vertical-align: top;\n",
       "    }\n",
       "\n",
       "    .dataframe thead th {\n",
       "        text-align: right;\n",
       "    }\n",
       "</style>\n",
       "<table border=\"1\" class=\"dataframe\">\n",
       "  <thead>\n",
       "    <tr style=\"text-align: right;\">\n",
       "      <th></th>\n",
       "      <th>text_tok_0</th>\n",
       "      <th>Подуровень</th>\n",
       "    </tr>\n",
       "  </thead>\n",
       "  <tbody>\n",
       "    <tr>\n",
       "      <th>4352</th>\n",
       "      <td>схемы chop газива подисследования одновременно...</td>\n",
       "      <td>1</td>\n",
       "    </tr>\n",
       "    <tr>\n",
       "      <th>9972</th>\n",
       "      <td>одновременное применение лапатиниба летрозолом...</td>\n",
       "      <td>2</td>\n",
       "    </tr>\n",
       "    <tr>\n",
       "      <th>7849</th>\n",
       "      <td>одновременное применение лерканидипина составе...</td>\n",
       "      <td>5</td>\n",
       "    </tr>\n",
       "    <tr>\n",
       "      <th>10009</th>\n",
       "      <td>одновременное применение хлорталидона составе ...</td>\n",
       "      <td>6</td>\n",
       "    </tr>\n",
       "    <tr>\n",
       "      <th>3304</th>\n",
       "      <td>популяционный фармакокинетический анализ данны...</td>\n",
       "      <td>2</td>\n",
       "    </tr>\n",
       "  </tbody>\n",
       "</table>\n",
       "</div>"
      ],
      "text/plain": [
       "                                              text_tok_0  Подуровень\n",
       "4352   схемы chop газива подисследования одновременно...           1\n",
       "9972   одновременное применение лапатиниба летрозолом...           2\n",
       "7849   одновременное применение лерканидипина составе...           5\n",
       "10009  одновременное применение хлорталидона составе ...           6\n",
       "3304   популяционный фармакокинетический анализ данны...           2"
      ]
     },
     "execution_count": 12,
     "metadata": {},
     "output_type": "execute_result"
    }
   ],
   "source": [
    "df.head()"
   ]
  },
  {
   "cell_type": "code",
   "execution_count": 14,
   "metadata": {},
   "outputs": [
    {
     "data": {
      "text/plain": [
       "2    2829\n",
       "6    2336\n",
       "8    2128\n",
       "4    1117\n",
       "3    1074\n",
       "5    1055\n",
       "7    1031\n",
       "1     824\n",
       "Name: Подуровень, dtype: int64"
      ]
     },
     "execution_count": 14,
     "metadata": {},
     "output_type": "execute_result"
    }
   ],
   "source": [
    "df['Подуровень'].value_counts()"
   ]
  },
  {
   "cell_type": "code",
   "execution_count": 13,
   "metadata": {},
   "outputs": [
    {
     "data": {
      "text/plain": [
       "12394"
      ]
     },
     "execution_count": 13,
     "metadata": {},
     "output_type": "execute_result"
    }
   ],
   "source": [
    "len(df)"
   ]
  },
  {
   "cell_type": "code",
   "execution_count": 49,
   "metadata": {},
   "outputs": [
    {
     "data": {
      "text/html": [
       "<div>\n",
       "<style scoped>\n",
       "    .dataframe tbody tr th:only-of-type {\n",
       "        vertical-align: middle;\n",
       "    }\n",
       "\n",
       "    .dataframe tbody tr th {\n",
       "        vertical-align: top;\n",
       "    }\n",
       "\n",
       "    .dataframe thead th {\n",
       "        text-align: right;\n",
       "    }\n",
       "</style>\n",
       "<table border=\"1\" class=\"dataframe\">\n",
       "  <thead>\n",
       "    <tr style=\"text-align: right;\">\n",
       "      <th></th>\n",
       "      <th>text_lemm_1</th>\n",
       "      <th>Подуровень</th>\n",
       "    </tr>\n",
       "  </thead>\n",
       "  <tbody>\n",
       "    <tr>\n",
       "      <th>0</th>\n",
       "      <td>риск развитие брадикардия нарушение проводимос...</td>\n",
       "      <td>6</td>\n",
       "    </tr>\n",
       "  </tbody>\n",
       "</table>\n",
       "</div>"
      ],
      "text/plain": [
       "                                         text_lemm_1  Подуровень\n",
       "0  риск развитие брадикардия нарушение проводимос...           6"
      ]
     },
     "execution_count": 49,
     "metadata": {},
     "output_type": "execute_result"
    }
   ],
   "source": [
    "df[df.index==0]"
   ]
  },
  {
   "cell_type": "code",
   "execution_count": 41,
   "metadata": {},
   "outputs": [
    {
     "data": {
      "text/plain": [
       "10894"
      ]
     },
     "execution_count": 41,
     "metadata": {},
     "output_type": "execute_result"
    }
   ],
   "source": [
    "len(df)"
   ]
  },
  {
   "cell_type": "code",
   "execution_count": 27,
   "metadata": {},
   "outputs": [
    {
     "data": {
      "text/plain": [
       "10894"
      ]
     },
     "execution_count": 27,
     "metadata": {},
     "output_type": "execute_result"
    }
   ],
   "source": [
    "len(df)"
   ]
  },
  {
   "cell_type": "code",
   "execution_count": 24,
   "metadata": {},
   "outputs": [
    {
     "data": {
      "text/plain": [
       "pandas.core.frame.DataFrame"
      ]
     },
     "execution_count": 24,
     "metadata": {},
     "output_type": "execute_result"
    }
   ],
   "source": [
    "type(df)"
   ]
  },
  {
   "cell_type": "code",
   "execution_count": null,
   "metadata": {},
   "outputs": [],
   "source": [
    "X, y = df.loc[:, 'text_lemm_1'], df.loc[:, 'Подуровень']"
   ]
  },
  {
   "cell_type": "code",
   "execution_count": 49,
   "metadata": {},
   "outputs": [
    {
     "data": {
      "text/plain": [
       "array(['a', 'c', 'b'], dtype='<U1')"
      ]
     },
     "execution_count": 49,
     "metadata": {},
     "output_type": "execute_result"
    }
   ],
   "source": [
    "a = np.array(['a', 'b', 'c'])\n",
    "random.shuffle(a)\n",
    "a"
   ]
  }
 ],
 "metadata": {
  "kernelspec": {
   "display_name": "Python 3",
   "language": "python",
   "name": "python3"
  },
  "language_info": {
   "codemirror_mode": {
    "name": "ipython",
    "version": 3
   },
   "file_extension": ".py",
   "mimetype": "text/x-python",
   "name": "python",
   "nbconvert_exporter": "python",
   "pygments_lexer": "ipython3",
   "version": "3.8.10"
  },
  "orig_nbformat": 4
 },
 "nbformat": 4,
 "nbformat_minor": 2
}
