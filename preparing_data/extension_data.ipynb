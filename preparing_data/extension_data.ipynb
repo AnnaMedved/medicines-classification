{
 "cells": [
  {
   "attachments": {},
   "cell_type": "markdown",
   "metadata": {},
   "source": [
    "## Расширение малочисленнных классов"
   ]
  },
  {
   "cell_type": "code",
   "execution_count": 3,
   "metadata": {},
   "outputs": [
    {
     "name": "stdout",
     "output_type": "stream",
     "text": [
      "d:\\Documents\\medicines-classification\\preparing_data\n"
     ]
    }
   ],
   "source": [
    "import os \n",
    "\n",
    "print(os.getcwd())"
   ]
  },
  {
   "cell_type": "code",
   "execution_count": 56,
   "metadata": {},
   "outputs": [
    {
     "data": {
      "text/plain": [
       "0        риск развитие брадикардия нарушение проводимос...\n",
       "1        риск развитие брадикардия нарушение проводимос...\n",
       "2        риск развитие брадикардия нарушение проводимос...\n",
       "3        ниох капс следовать осторожность назначать одн...\n",
       "4        ниох капс совместно применение тековиримат мид...\n",
       "                               ...                        \n",
       "10089    эфавиренз табла п п индинавир эфавиренз мг ч м...\n",
       "10090    применение индинавир мг каждый ч эфавиренз мг ...\n",
       "10091    эфавиренз табла п п кларитромицин эфавиренз мг...\n",
       "10092    одновременный применение мг эфавиренз сутки кл...\n",
       "10093    эфавиренз табла п п уменьшение концентрация ак...\n",
       "Name: text_lemm_1, Length: 10094, dtype: object"
      ]
     },
     "execution_count": 56,
     "metadata": {},
     "output_type": "execute_result"
    }
   ],
   "source": [
    "import pandas as pd \n",
    "\n",
    "df = pd.read_csv('lemm.csv')\n",
    "df.text_lemm_1"
   ]
  },
  {
   "cell_type": "code",
   "execution_count": 4,
   "metadata": {},
   "outputs": [
    {
     "data": {
      "text/plain": [
       "2    2829\n",
       "6    2336\n",
       "8    2128\n",
       "4    1117\n",
       "5    1055\n",
       "7     331\n",
       "3     274\n",
       "1      24\n",
       "Name: Подуровень, dtype: int64"
      ]
     },
     "execution_count": 4,
     "metadata": {},
     "output_type": "execute_result"
    }
   ],
   "source": [
    "df['Подуровень'].value_counts()"
   ]
  },
  {
   "cell_type": "code",
   "execution_count": 52,
   "metadata": {},
   "outputs": [
    {
     "data": {
      "text/html": [
       "<div>\n",
       "<style scoped>\n",
       "    .dataframe tbody tr th:only-of-type {\n",
       "        vertical-align: middle;\n",
       "    }\n",
       "\n",
       "    .dataframe tbody tr th {\n",
       "        vertical-align: top;\n",
       "    }\n",
       "\n",
       "    .dataframe thead th {\n",
       "        text-align: right;\n",
       "    }\n",
       "</style>\n",
       "<table border=\"1\" class=\"dataframe\">\n",
       "  <thead>\n",
       "    <tr style=\"text-align: right;\">\n",
       "      <th></th>\n",
       "      <th>text_lemm_1</th>\n",
       "      <th>Подуровень</th>\n",
       "    </tr>\n",
       "  </thead>\n",
       "  <tbody>\n",
       "    <tr>\n",
       "      <th>4352</th>\n",
       "      <td>р терфенадин гормон угнетение существовать цит...</td>\n",
       "      <td>1</td>\n",
       "    </tr>\n",
       "    <tr>\n",
       "      <th>9972</th>\n",
       "      <td>тайверба табла п п влияние лапатиниб лекарстве...</td>\n",
       "      <td>2</td>\n",
       "    </tr>\n",
       "    <tr>\n",
       "      <th>7849</th>\n",
       "      <td>лерканидипин одновременный прием противосудоро...</td>\n",
       "      <td>5</td>\n",
       "    </tr>\n",
       "    <tr>\n",
       "      <th>10009</th>\n",
       "      <td>одновременный применение циклоспорин увеличива...</td>\n",
       "      <td>6</td>\n",
       "    </tr>\n",
       "    <tr>\n",
       "      <th>3304</th>\n",
       "      <td>популяционный фармакокинетический анализ данны...</td>\n",
       "      <td>2</td>\n",
       "    </tr>\n",
       "  </tbody>\n",
       "</table>\n",
       "</div>"
      ],
      "text/plain": [
       "                                             text_lemm_1  Подуровень\n",
       "4352   р терфенадин гормон угнетение существовать цит...           1\n",
       "9972   тайверба табла п п влияние лапатиниб лекарстве...           2\n",
       "7849   лерканидипин одновременный прием противосудоро...           5\n",
       "10009  одновременный применение циклоспорин увеличива...           6\n",
       "3304   популяционный фармакокинетический анализ данны...           2"
      ]
     },
     "execution_count": 52,
     "metadata": {},
     "output_type": "execute_result"
    }
   ],
   "source": [
    "import numpy as np \n",
    "import random \n",
    "from random import shuffle, randint, choice\n",
    "\n",
    "\n",
    "def mix_two_frames(df1:pd.DataFrame, df2:pd.DataFrame): \n",
    "    \"\"\"Concatenate 2 dataframes and mixing them\"\"\"\n",
    "\n",
    "    # rand_combine = lambda r1, r2: r1 if randint(0, 10) < 5 else r2\n",
    "    # return df1.combine(df2, rand_combine)\n",
    "    new = pd.concat([df1, df2], ignore_index=True)\n",
    "    return new[['text_lemm_1', 'Подуровень']].sample(frac=1, random_state=1)\n",
    "\n",
    "def shuffle_row(row: str): \n",
    "    \"\"\"Random shuffle of the row\"\"\"\n",
    "\n",
    "    words = row.split(' ')\n",
    "    # print(row)\n",
    "    random.shuffle(words)\n",
    "    # print(' '.join(words))\n",
    "    # print(np.random.shuffle(words))\n",
    "    # print(' '.join(words))\n",
    "    return ' '.join(words)\n",
    "\n",
    "def extend_df(df: pd.DataFrame, column: str, indexes: np.array, num_extension: list): \n",
    "    \"\"\"Random extension of small class in text data\"\"\"\n",
    "\n",
    "    data = df.loc[indexes] # DataFrame \n",
    "    # new_rows_arr = np.empty(shape=num_extension, dtype=str) # array of new (extended) objects \n",
    "    # classes = np.zeros(num_extension) \n",
    "    new_rows_arr, classes = [], []\n",
    "\n",
    "    for _ in range(num_extension): \n",
    "\n",
    "        rand_ind = choice(data.index) # random value of input class-array index\n",
    "        row = data.loc[rand_ind, column] # initial (non-shuffled) row \n",
    "        cls = data.loc[rand_ind, 'Подуровень'] # initiala class \n",
    "        new_row = shuffle_row(row)\n",
    "        new_rows_arr.append(new_row) \n",
    "        classes.append(cls) \n",
    "\n",
    "    ext_df = pd.DataFrame(\n",
    "        index=np.arange(num_extension), \n",
    "        data={column: new_rows_arr, 'Подуровень': classes} \n",
    "        # columns=[column, '']\n",
    "    )\n",
    "\n",
    "    shuffled_df = mix_two_frames(df1=df, df2=ext_df)\n",
    "    return shuffled_df\n",
    "\n",
    "indexes_1 = df[df['Подуровень'] == 1].index\n",
    "df = extend_df(df=df, column='text_lemm_1', indexes=indexes_1, num_extension=800)\n",
    "indexes_3 = df[df['Подуровень'] == 3].index\n",
    "df = extend_df(df=df, column='text_lemm_1', indexes=indexes_3, num_extension=800)\n",
    "indexes_7 = df[df['Подуровень'] == 7].index\n",
    "df = extend_df(df=df, column='text_lemm_1', indexes=indexes_7, num_extension=700)\n",
    "\n",
    "# len(indexes_1)\n",
    "\n",
    "df.head()"
   ]
  },
  {
   "cell_type": "code",
   "execution_count": 53,
   "metadata": {},
   "outputs": [
    {
     "data": {
      "text/plain": [
       "12394"
      ]
     },
     "execution_count": 53,
     "metadata": {},
     "output_type": "execute_result"
    }
   ],
   "source": [
    "len(df)"
   ]
  },
  {
   "cell_type": "code",
   "execution_count": 49,
   "metadata": {},
   "outputs": [
    {
     "data": {
      "text/html": [
       "<div>\n",
       "<style scoped>\n",
       "    .dataframe tbody tr th:only-of-type {\n",
       "        vertical-align: middle;\n",
       "    }\n",
       "\n",
       "    .dataframe tbody tr th {\n",
       "        vertical-align: top;\n",
       "    }\n",
       "\n",
       "    .dataframe thead th {\n",
       "        text-align: right;\n",
       "    }\n",
       "</style>\n",
       "<table border=\"1\" class=\"dataframe\">\n",
       "  <thead>\n",
       "    <tr style=\"text-align: right;\">\n",
       "      <th></th>\n",
       "      <th>text_lemm_1</th>\n",
       "      <th>Подуровень</th>\n",
       "    </tr>\n",
       "  </thead>\n",
       "  <tbody>\n",
       "    <tr>\n",
       "      <th>0</th>\n",
       "      <td>риск развитие брадикардия нарушение проводимос...</td>\n",
       "      <td>6</td>\n",
       "    </tr>\n",
       "  </tbody>\n",
       "</table>\n",
       "</div>"
      ],
      "text/plain": [
       "                                         text_lemm_1  Подуровень\n",
       "0  риск развитие брадикардия нарушение проводимос...           6"
      ]
     },
     "execution_count": 49,
     "metadata": {},
     "output_type": "execute_result"
    }
   ],
   "source": [
    "df[df.index==0]"
   ]
  },
  {
   "cell_type": "code",
   "execution_count": 41,
   "metadata": {},
   "outputs": [
    {
     "data": {
      "text/plain": [
       "10894"
      ]
     },
     "execution_count": 41,
     "metadata": {},
     "output_type": "execute_result"
    }
   ],
   "source": [
    "len(df)"
   ]
  },
  {
   "cell_type": "code",
   "execution_count": 27,
   "metadata": {},
   "outputs": [
    {
     "data": {
      "text/plain": [
       "10894"
      ]
     },
     "execution_count": 27,
     "metadata": {},
     "output_type": "execute_result"
    }
   ],
   "source": [
    "len(df)"
   ]
  },
  {
   "cell_type": "code",
   "execution_count": 24,
   "metadata": {},
   "outputs": [
    {
     "data": {
      "text/plain": [
       "pandas.core.frame.DataFrame"
      ]
     },
     "execution_count": 24,
     "metadata": {},
     "output_type": "execute_result"
    }
   ],
   "source": [
    "type(df)"
   ]
  },
  {
   "cell_type": "code",
   "execution_count": null,
   "metadata": {},
   "outputs": [],
   "source": [
    "X, y = df.loc[:, 'text_lemm_1'], df.loc[:, 'Подуровень']"
   ]
  },
  {
   "cell_type": "code",
   "execution_count": 49,
   "metadata": {},
   "outputs": [
    {
     "data": {
      "text/plain": [
       "array(['a', 'c', 'b'], dtype='<U1')"
      ]
     },
     "execution_count": 49,
     "metadata": {},
     "output_type": "execute_result"
    }
   ],
   "source": [
    "a = np.array(['a', 'b', 'c'])\n",
    "random.shuffle(a)\n",
    "a"
   ]
  }
 ],
 "metadata": {
  "kernelspec": {
   "display_name": "Python 3",
   "language": "python",
   "name": "python3"
  },
  "language_info": {
   "codemirror_mode": {
    "name": "ipython",
    "version": 3
   },
   "file_extension": ".py",
   "mimetype": "text/x-python",
   "name": "python",
   "nbconvert_exporter": "python",
   "pygments_lexer": "ipython3",
   "version": "3.8.9"
  },
  "orig_nbformat": 4
 },
 "nbformat": 4,
 "nbformat_minor": 2
}
