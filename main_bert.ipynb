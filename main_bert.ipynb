{
  "cells": [
    {
      "cell_type": "markdown",
      "metadata": {
        "id": "djGXuZf1WtlY"
      },
      "source": [
        "## Medicine-data classification (using BERT)"
      ]
    },
    {
      "cell_type": "markdown",
      "metadata": {
        "id": "13vWP_btWtlZ"
      },
      "source": [
        "#### Шаг 1. Установка зависимостей"
      ]
    },
    {
      "cell_type": "code",
      "execution_count": null,
      "metadata": {
        "id": "_QYgxZEBWtlZ"
      },
      "outputs": [],
      "source": [
        "# run me\n",
        "!git clone https://github.com/AnnaMedved/medicines-classification.git\n",
        "%cd /content/medicines-classification\n",
        "# !git lfs fetch --all\n",
        "# !git lfs pull\n",
        "!pip install -r requirements.txt\n",
        "!pip install transformers\n",
        "!pip install keras-preprocessing\n",
        "\n",
        "!pip install patool\n",
        "import patoolib\n",
        "import os\n",
        "\n",
        "if not os.path.exists('data'): \n",
        "  os.makedirs('data')\n",
        "\n",
        "!pip install gdown\n",
        "!gdown --fuzzy https://drive.google.com/file/d/15q__zPxZWLEmm2HjFS1lJPd36F9exnIY/view?usp=sharing\n",
        "\n",
        "# run me \n",
        "patoolib.extract_archive(\"model.rar\", outdir='.')"
      ]
    },
    {
      "cell_type": "markdown",
      "metadata": {
        "id": "qiyGDOanWtla"
      },
      "source": [
        "#### Шаг 2. Получение результатов"
      ]
    },
    {
      "cell_type": "markdown",
      "metadata": {
        "id": "Le0pb9Lob7AU"
      },
      "source": [
        "* Необходимо поместить тестируемые данные в *medicines-classification/data*\n",
        "* Результат генерируется в корне: *medicines-classification/RESULT.xslx*\n",
        "* Убедиться, что в параметрах системы (*показать ресурсы->сменить среду выполнения*) указана GPU в качестве аппаратного ускорителя.\n",
        "* Проверить соответствие названий файлов, учитываемых моделью колонок в таблице - *data_name*, *feature_column*"
      ]
    },
    {
      "cell_type": "code",
      "execution_count": null,
      "metadata": {
        "id": "snctI3m1Wtla"
      },
      "outputs": [],
      "source": [
        "# ============================== CNANGE ME =====================================\n",
        "data_name = 'data.xlsx'\n",
        "# В списке может быть и 1 или 2 столбца: \n",
        "feature_column = ['Правило взаимодействия (обр.)', 'Исходники (обр.)']\n",
        "new_data_name = 'RESULT.xlsx'\n",
        "# ============================== CNANGE ME =====================================\n",
        "\n",
        "\n",
        "import os \n",
        "from src.preprocessing_data import all_preprocessing\n",
        "from src.all_predict import all_predictions\n",
        "\n",
        "initial_path = os.path.join('data', data_name)\n",
        "saved_path = os.path.join('data', new_data_name)\n",
        "df = all_preprocessing(initial_path, feature_column, saved_path) \n",
        "\n",
        "pred_df = all_predictions(df, new_data_name, feature_column)"
      ]
    },
    {
      "cell_type": "markdown",
      "metadata": {
        "id": "y9ufEnCFuX1B"
      },
      "source": [
        "Проверка результата: "
      ]
    },
    {
      "cell_type": "code",
      "execution_count": null,
      "metadata": {
        "colab": {
          "base_uri": "https://localhost:8080/"
        },
        "id": "faWkaXnbuow5",
        "outputId": "52ddbde4-0681-41a1-a8ce-e2fb9a75e166"
      },
      "outputs": [
        {
          "name": "stdout",
          "output_type": "stream",
          "text": [
            "True predictions ratio: 0.931\n"
          ]
        }
      ],
      "source": [
        "# Целевая колонка ИСХОДНЫХ данных, если нужно проверить качество решений модели:\n",
        "target_column = 'Подуровень' \n",
        "true_predictions = round(sum(\n",
        "    df[target_column] == pred_df['Predictions']\n",
        "    ) / len(pred_df), 3)\n",
        "print(f'True predictions ratio: {true_predictions}')"
      ]
    }
  ],
  "metadata": {
    "accelerator": "GPU",
    "colab": {
      "provenance": []
    },
    "gpuClass": "standard",
    "kernelspec": {
      "display_name": "Python 3",
      "language": "python",
      "name": "python3"
    },
    "language_info": {
      "name": "python",
      "version": "3.8.10"
    },
    "orig_nbformat": 4
  },
  "nbformat": 4,
  "nbformat_minor": 0
}
