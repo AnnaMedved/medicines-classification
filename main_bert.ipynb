{
 "cells": [
  {
   "attachments": {},
   "cell_type": "markdown",
   "metadata": {},
   "source": [
    "## Medicine-data classification (using BERT)"
   ]
  },
  {
   "attachments": {},
   "cell_type": "markdown",
   "metadata": {},
   "source": [
    "#### Шаг 1. Установка зависимостей"
   ]
  },
  {
   "cell_type": "code",
   "execution_count": null,
   "metadata": {},
   "outputs": [],
   "source": [
    "# run me\n",
    "!git clone https://github.com/AnnaMedved/medicines-classification.git --branch bert-realize --single-branch\n",
    "%cd /content/medicines-classification\n",
    "!pip install -r requirements.txt\n",
    "\n",
    "!pip install patool\n",
    "import patoolib\n",
    "patoolib.extract_archive(\"model.rar\", outdir=\"model\")"
   ]
  },
  {
   "attachments": {},
   "cell_type": "markdown",
   "metadata": {},
   "source": [
    "#### Шаг 2. Получение результатов"
   ]
  },
  {
   "cell_type": "code",
   "execution_count": null,
   "metadata": {},
   "outputs": [],
   "source": [
    "# ============================== CNANGE ME =====================================\n",
    "data_name = 'data.xlsx'\n",
    "# В списке может быть и 1 или 2 столбца: \n",
    "feature_column = ['Правило взаимодействия (обр.)', 'Исходники (обр.)']\n",
    "new_data_name = 'RESULT.xlsx'\n",
    "# ============================== CNANGE ME =====================================\n",
    "\n",
    "\n",
    "import os \n",
    "from src.preprocessing_data import all_preprocessing\n",
    "from src.all_predict import all_predictions\n",
    "\n",
    "initial_path = os.path.join('data', data_name)\n",
    "saved_path = os.path.join('data', new_data_name)\n",
    "df = all_preprocessing(initial_path, feature_column, saved_path) \n",
    "\n",
    "pred_df = all_predictions(df, new_data_name, feature_column)"
   ]
  }
 ],
 "metadata": {
  "kernelspec": {
   "display_name": "Python 3",
   "language": "python",
   "name": "python3"
  },
  "language_info": {
   "name": "python",
   "version": "3.8.10"
  },
  "orig_nbformat": 4
 },
 "nbformat": 4,
 "nbformat_minor": 2
}
